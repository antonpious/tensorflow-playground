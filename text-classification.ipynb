{
  "cells": [
    {
      "cell_type": "markdown",
      "source": [
        "Sentiment analysis using TF"
      ],
      "metadata": {
        "id": "nusXZYQXVoL9"
      }
    },
    {
      "cell_type": "code",
      "execution_count": 1,
      "metadata": {
        "id": "PQVqBB1oVEMb"
      },
      "outputs": [],
      "source": [
        "import matplotlib.pyplot as plt\n",
        "import os\n",
        "import re\n",
        "import shutil\n",
        "import string\n",
        "import tensorflow as tf\n",
        "\n",
        "from tensorflow.keras import layers\n",
        "from tensorflow.keras import losses"
      ]
    },
    {
      "cell_type": "code",
      "source": [
        "# check tf version\n",
        "print(tf.__version__)"
      ],
      "metadata": {
        "id": "2UZpIz47VGxr",
        "outputId": "3e6c024b-2e0a-4c04-ab6c-23f8a0ede090",
        "colab": {
          "base_uri": "https://localhost:8080/"
        }
      },
      "execution_count": 2,
      "outputs": [
        {
          "output_type": "stream",
          "name": "stdout",
          "text": [
            "2.18.0\n"
          ]
        }
      ]
    },
    {
      "cell_type": "code",
      "source": [
        "# Download and explore the IMDB dataset"
      ],
      "metadata": {
        "id": "WrAWOvH1VefJ"
      },
      "execution_count": null,
      "outputs": []
    },
    {
      "cell_type": "code",
      "source": [
        "'''\n",
        "  This would be placed under Files aclImdb_v1 folder in CoLab\n",
        "  The archive would also be present\n",
        "  This needs to be done for every instance as the Google Colab Doesn't\n",
        "  store the files\n",
        "'''\n",
        "url = \"https://ai.stanford.edu/~amaas/data/sentiment/aclImdb_v1.tar.gz\"\n",
        "\n",
        "dataset = tf.keras.utils.get_file(\"aclImdb_v1\", url,\n",
        "                                    untar=True, cache_dir='.',\n",
        "                                    cache_subdir='')\n",
        "\n",
        "\n"
      ],
      "metadata": {
        "id": "EQJUes2-Vebk",
        "outputId": "3fa9186e-d516-4a0e-db15-76a0dd4dc835",
        "colab": {
          "base_uri": "https://localhost:8080/"
        }
      },
      "execution_count": 3,
      "outputs": [
        {
          "output_type": "stream",
          "name": "stdout",
          "text": [
            "Downloading data from https://ai.stanford.edu/~amaas/data/sentiment/aclImdb_v1.tar.gz\n",
            "\u001b[1m84125825/84125825\u001b[0m \u001b[32m━━━━━━━━━━━━━━━━━━━━\u001b[0m\u001b[37m\u001b[0m \u001b[1m11s\u001b[0m 0us/step\n"
          ]
        }
      ]
    },
    {
      "cell_type": "code",
      "source": [
        "\n",
        "# Change the director name to include the version\n",
        "dataset_dir = os.path.join(os.path.dirname(dataset), 'aclImdb_v1/aclImdb')\n",
        "\n",
        "os.listdir(dataset_dir)"
      ],
      "metadata": {
        "id": "IlNM4dTHWt7G",
        "outputId": "e3bd78cf-7ddc-4d42-a640-c51819a7d19e",
        "colab": {
          "base_uri": "https://localhost:8080/"
        }
      },
      "execution_count": 4,
      "outputs": [
        {
          "output_type": "execute_result",
          "data": {
            "text/plain": [
              "['imdbEr.txt', 'test', 'imdb.vocab', 'train', 'README']"
            ]
          },
          "metadata": {},
          "execution_count": 4
        }
      ]
    },
    {
      "cell_type": "code",
      "source": [
        "# Setup the training directory\n",
        "train_dir = os.path.join(dataset_dir, 'train')\n",
        "os.listdir(train_dir)"
      ],
      "metadata": {
        "id": "mHUXOOMfXWLp",
        "outputId": "f6935d87-4f57-4c0e-a0cf-16aee02ad5d5",
        "colab": {
          "base_uri": "https://localhost:8080/"
        }
      },
      "execution_count": 5,
      "outputs": [
        {
          "output_type": "execute_result",
          "data": {
            "text/plain": [
              "['pos',\n",
              " 'unsup',\n",
              " 'neg',\n",
              " 'labeledBow.feat',\n",
              " 'urls_neg.txt',\n",
              " 'unsupBow.feat',\n",
              " 'urls_pos.txt',\n",
              " 'urls_unsup.txt']"
            ]
          },
          "metadata": {},
          "execution_count": 5
        }
      ]
    },
    {
      "cell_type": "code",
      "source": [
        "# simple version for working with CWD\n",
        "pos_dir = os.path.join(train_dir, 'pos')\n",
        "neg_dir = os.path.join(train_dir, 'neg')\n",
        "\n",
        "\n",
        "positive_files = os.listdir(pos_dir)\n",
        "total_positive_files = len(positive_files)\n",
        "print(\"Total Positive Files\", total_positive_files)\n",
        "\n",
        "negative_files = os.listdir(neg_dir)\n",
        "total_negative_files = len(negative_files)\n",
        "print(\"Total Negative Files\", total_negative_files)\n",
        "\n",
        "'''\n",
        "for file in negative_files:\n",
        "    print(file)\n",
        "\n",
        "'''\n",
        ""
      ],
      "metadata": {
        "colab": {
          "base_uri": "https://localhost:8080/"
        },
        "id": "DwwVrYsH2x7O",
        "outputId": "49661759-14cc-47ed-a021-3a5ffb838d10"
      },
      "execution_count": 13,
      "outputs": [
        {
          "output_type": "stream",
          "name": "stdout",
          "text": [
            "Total Positive Files 12500\n",
            "Total Negative Files 12500\n"
          ]
        }
      ]
    },
    {
      "cell_type": "code",
      "source": [
        "# look at a review file\n",
        "sample_file = os.path.join(train_dir, 'pos/1181_9.txt')\n",
        "with open(sample_file) as f:\n",
        "  print(f.read())"
      ],
      "metadata": {
        "colab": {
          "base_uri": "https://localhost:8080/"
        },
        "id": "PukvBKOQ1Wvl",
        "outputId": "6ee9e893-323f-4d07-ce68-94d012b7c254"
      },
      "execution_count": 6,
      "outputs": [
        {
          "output_type": "stream",
          "name": "stdout",
          "text": [
            "Rachel Griffiths writes and directs this award winning short film. A heartwarming story about coping with grief and cherishing the memory of those we've loved and lost. Although, only 15 minutes long, Griffiths manages to capture so much emotion and truth onto film in the short space of time. Bud Tingwell gives a touching performance as Will, a widower struggling to cope with his wife's death. Will is confronted by the harsh reality of loneliness and helplessness as he proceeds to take care of Ruth's pet cow, Tulip. The film displays the grief and responsibility one feels for those they have loved and lost. Good cinematography, great direction, and superbly acted. It will bring tears to all those who have lost a loved one, and survived.\n"
          ]
        }
      ]
    },
    {
      "cell_type": "code",
      "source": [
        "# remove unnecessary files\n"
      ],
      "metadata": {
        "id": "IfNnaKIt1qzS"
      },
      "execution_count": null,
      "outputs": []
    }
  ],
  "metadata": {
    "kernelspec": {
      "display_name": "Python 3",
      "language": "python",
      "name": "python3"
    },
    "language_info": {
      "codemirror_mode": {
        "name": "ipython",
        "version": 3
      },
      "file_extension": ".py",
      "mimetype": "text/x-python",
      "name": "python",
      "nbconvert_exporter": "python",
      "pygments_lexer": "ipython3",
      "version": "3.12.2"
    },
    "orig_nbformat": 4,
    "vscode": {
      "interpreter": {
        "hash": "aee8b7b246df8f9039afb4144a1f6fd8d2ca17a180786b69acc140d282b71a49"
      }
    },
    "colab": {
      "provenance": []
    }
  },
  "nbformat": 4,
  "nbformat_minor": 0
}